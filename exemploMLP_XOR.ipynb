{
  "cells": [
    {
      "cell_type": "code",
      "execution_count": 1,
      "metadata": {
        "colab": {
          "base_uri": "https://localhost:8080/",
          "height": 489
        },
        "id": "4iD5tJAA1Fzb",
        "outputId": "90118150-11d6-469d-dd4f-94a20f9e97e1"
      },
      "outputs": [
        {
          "name": "stdout",
          "output_type": "stream",
          "text": [
            "Visualizando os dados de entrada graficamente\n"
          ]
        },
        {
          "data": {
            "image/png": "[encoded data removed]",
            "text/plain": [
              "<Figure size 640x480 with 1 Axes>"
            ]
          },
          "metadata": {},
          "output_type": "display_data"
        }
      ],
      "source": [
        "import matplotlib.pyplot as plt\n",
        "import numpy as np\n",
        "from sklearn.neural_network import MLPClassifier\n",
        "from sklearn.metrics import confusion_matrix\n",
        "from sklearn.metrics import accuracy_score\n",
        "\n",
        "#Visualização dos dados\n",
        "x1 = [0,0,1,1]\n",
        "x2 = [0,1,0,1]\n",
        "\n",
        "plt.scatter(x1,x2)  #grafico de dispersão\n",
        "plt.xlabel('X1')\n",
        "plt.ylabel('X2')\n",
        "plt.title('XOR')\n",
        "plt.annotate(' Classe 1',xy=(1,0))\n",
        "plt.annotate(' Classe 1',xy=(0,1))\n",
        "plt.annotate(' Classe 0',xy=(0,0))\n",
        "plt.annotate(' Classe 0',xy=(1,1))\n",
        "\n",
        "print(\"Visualizando os dados de entrada graficamente\")"
      ]
    },
    {
      "cell_type": "code",
      "execution_count": 2,
      "metadata": {
        "colab": {
          "base_uri": "https://localhost:8080/"
        },
        "id": "8ggAKgq6PmRp",
        "outputId": "f843ed45-f756-4c6a-f93e-ccccd450c4a7"
      },
      "outputs": [
        {
          "name": "stdout",
          "output_type": "stream",
          "text": [
            "-- Tabela XOR--\n",
            "[X1,X2] Classe\n",
            "[0, 0] 0\n",
            "[0, 1] 1\n",
            "[1, 0] 1\n",
            "[1, 1] 0\n"
          ]
        }
      ],
      "source": [
        "#Dados do XOR para entrada na rede MLP\n",
        "X = [[0,0],[0,1],[1,0],[1,1]]   #entrada\n",
        "Y = [0,1,1,0]                   #saida desejada\n",
        "\n",
        "#Tabela XOR\n",
        "numeroLinhas = len(X)\n",
        "print(\"-- Tabela XOR--\")\n",
        "print(\"[X1,X2] Classe\")\n",
        "for linha in range(0,numeroLinhas):\n",
        "  print(X[linha],Y[linha])"
      ]
    },
    {
      "cell_type": "code",
      "execution_count": 3,
      "metadata": {
        "colab": {
          "base_uri": "https://localhost:8080/",
          "height": 1000
        },
        "id": "zqY7pprTP80Q",
        "outputId": "100a92af-6858-45af-9f3a-8738263560a4"
      },
      "outputs": [
        {
          "name": "stdout",
          "output_type": "stream",
          "text": [
            "Treinando...\n",
            "Iteration 1, loss = 0.83404647\n",
            "Iteration 2, loss = 0.79369366\n",
            "Iteration 3, loss = 0.73732270\n",
            "Iteration 4, loss = 0.69315467\n",
            "Iteration 5, loss = 0.66081887\n",
            "Iteration 6, loss = 0.64074843\n",
            "Iteration 7, loss = 0.62218431\n",
            "Iteration 8, loss = 0.60598744\n",
            "Iteration 9, loss = 0.60456746\n",
            "Iteration 10, loss = 0.59235342\n",
            "Iteration 11, loss = 0.56486939\n",
            "Iteration 12, loss = 0.51134384\n",
            "Iteration 13, loss = 0.49532944\n",
            "Iteration 14, loss = 0.47467488\n",
            "Iteration 15, loss = 0.45643351\n",
            "Iteration 16, loss = 0.43749497\n",
            "Iteration 17, loss = 0.42436386\n",
            "Iteration 18, loss = 0.41120758\n",
            "Iteration 19, loss = 0.39501809\n",
            "Iteration 20, loss = 0.38326800\n",
            "Iteration 21, loss = 0.37242684\n",
            "Iteration 22, loss = 0.36582465\n",
            "Iteration 23, loss = 0.35986295\n",
            "Iteration 24, loss = 0.35545376\n",
            "Iteration 25, loss = 0.35264496\n",
            "Iteration 26, loss = 0.35099775\n",
            "Iteration 27, loss = 0.35003537\n",
            "Iteration 28, loss = 0.34942847\n",
            "Iteration 29, loss = 0.35400623\n",
            "Iteration 30, loss = 0.34878414\n",
            "Iteration 31, loss = 0.34877048\n",
            "Iteration 32, loss = 0.34896303\n",
            "Iteration 33, loss = 0.34935856\n",
            "Iteration 34, loss = 0.34992415\n",
            "Iteration 35, loss = 0.35058399\n",
            "Iteration 36, loss = 0.35122236\n",
            "Iteration 37, loss = 0.35170916\n",
            "Iteration 38, loss = 0.35194252\n",
            "Iteration 39, loss = 0.35188610\n",
            "Iteration 40, loss = 0.35157649\n",
            "Iteration 41, loss = 0.35109725\n",
            "Training loss did not improve more than tol=0.000100 for 10 consecutive epochs. Stopping.\n"
          ]
        },
        {
          "data": {
            "text/html": [
              "<style>#sk-container-id-1 {color: black;background-color: white;}#sk-container-id-1 pre{padding: 0;}#sk-container-id-1 div.sk-toggleable {background-color: white;}#sk-container-id-1 label.sk-toggleable__label {cursor: pointer;display: block;width: 100%;margin-bottom: 0;padding: 0.3em;box-sizing: border-box;text-align: center;}#sk-container-id-1 label.sk-toggleable__label-arrow:before {content: \"▸\";float: left;margin-right: 0.25em;color: #696969;}#sk-container-id-1 label.sk-toggleable__label-arrow:hover:before {color: black;}#sk-container-id-1 div.sk-estimator:hover label.sk-toggleable__label-arrow:before {color: black;}#sk-container-id-1 div.sk-toggleable__content {max-height: 0;max-width: 0;overflow: hidden;text-align: left;background-color: #f0f8ff;}#sk-container-id-1 div.sk-toggleable__content pre {margin: 0.2em;color: black;border-radius: 0.25em;background-color: #f0f8ff;}#sk-container-id-1 input.sk-toggleable__control:checked~div.sk-toggleable__content {max-height: 200px;max-width: 100%;overflow: auto;}#sk-container-id-1 input.sk-toggleable__control:checked~label.sk-toggleable__label-arrow:before {content: \"▾\";}#sk-container-id-1 div.sk-estimator input.sk-toggleable__control:checked~label.sk-toggleable__label {background-color: #d4ebff;}#sk-container-id-1 div.sk-label input.sk-toggleable__control:checked~label.sk-toggleable__label {background-color: #d4ebff;}#sk-container-id-1 input.sk-hidden--visually {border: 0;clip: rect(1px 1px 1px 1px);clip: rect(1px, 1px, 1px, 1px);height: 1px;margin: -1px;overflow: hidden;padding: 0;position: absolute;width: 1px;}#sk-container-id-1 div.sk-estimator {font-family: monospace;background-color: #f0f8ff;border: 1px dotted black;border-radius: 0.25em;box-sizing: border-box;margin-bottom: 0.5em;}#sk-container-id-1 div.sk-estimator:hover {background-color: #d4ebff;}#sk-container-id-1 div.sk-parallel-item::after {content: \"\";width: 100%;border-bottom: 1px solid gray;flex-grow: 1;}#sk-container-id-1 div.sk-label:hover label.sk-toggleable__label {background-color: #d4ebff;}#sk-container-id-1 div.sk-serial::before {content: \"\";position: absolute;border-left: 1px solid gray;box-sizing: border-box;top: 0;bottom: 0;left: 50%;z-index: 0;}#sk-container-id-1 div.sk-serial {display: flex;flex-direction: column;align-items: center;background-color: white;padding-right: 0.2em;padding-left: 0.2em;position: relative;}#sk-container-id-1 div.sk-item {position: relative;z-index: 1;}#sk-container-id-1 div.sk-parallel {display: flex;align-items: stretch;justify-content: center;background-color: white;position: relative;}#sk-container-id-1 div.sk-item::before, #sk-container-id-1 div.sk-parallel-item::before {content: \"\";position: absolute;border-left: 1px solid gray;box-sizing: border-box;top: 0;bottom: 0;left: 50%;z-index: -1;}#sk-container-id-1 div.sk-parallel-item {display: flex;flex-direction: column;z-index: 1;position: relative;background-color: white;}#sk-container-id-1 div.sk-parallel-item:first-child::after {align-self: flex-end;width: 50%;}#sk-container-id-1 div.sk-parallel-item:last-child::after {align-self: flex-start;width: 50%;}#sk-container-id-1 div.sk-parallel-item:only-child::after {width: 0;}#sk-container-id-1 div.sk-dashed-wrapped {border: 1px dashed gray;margin: 0 0.4em 0.5em 0.4em;box-sizing: border-box;padding-bottom: 0.4em;background-color: white;}#sk-container-id-1 div.sk-label label {font-family: monospace;font-weight: bold;display: inline-block;line-height: 1.2em;}#sk-container-id-1 div.sk-label-container {text-align: center;}#sk-container-id-1 div.sk-container {/* jupyter's `normalize.less` sets `[hidden] { display: none; }` but bootstrap.min.css set `[hidden] { display: none !important; }` so we also need the `!important` here to be able to override the default hidden behavior on the sphinx rendered scikit-learn.org. See: https://github.com/scikit-learn/scikit-learn/issues/21755 */display: inline-block !important;position: relative;}#sk-container-id-1 div.sk-text-repr-fallback {display: none;}</style><div id=\"sk-container-id-1\" class=\"sk-top-container\"><div class=\"sk-text-repr-fallback\"><pre>MLPClassifier(hidden_layer_sizes=(3,), learning_rate_init=0.5,\n",
              "              nesterovs_momentum=False, power_t=0.01, solver=&#x27;sgd&#x27;,\n",
              "              verbose=True)</pre><b>In a Jupyter environment, please rerun this cell to show the HTML representation or trust the notebook. <br />On GitHub, the HTML representation is unable to render, please try loading this page with nbviewer.org.</b></div><div class=\"sk-container\" hidden><div class=\"sk-item\"><div class=\"sk-estimator sk-toggleable\"><input class=\"sk-toggleable__control sk-hidden--visually\" id=\"sk-estimator-id-1\" type=\"checkbox\" checked><label for=\"sk-estimator-id-1\" class=\"sk-toggleable__label sk-toggleable__label-arrow\">MLPClassifier</label><div class=\"sk-toggleable__content\"><pre>MLPClassifier(hidden_layer_sizes=(3,), learning_rate_init=0.5,\n",
              "              nesterovs_momentum=False, power_t=0.01, solver=&#x27;sgd&#x27;,\n",
              "              verbose=True)</pre></div></div></div></div></div>"
            ],
            "text/plain": [
              "MLPClassifier(hidden_layer_sizes=(3,), learning_rate_init=0.5,\n",
              "              nesterovs_momentum=False, power_t=0.01, solver='sgd',\n",
              "              verbose=True)"
            ]
          },
          "execution_count": 3,
          "metadata": {},
          "output_type": "execute_result"
        }
      ],
      "source": [
        "#Treinamento \n",
        "#clf = MLPClassifier(solver='lbfgs', alpha=1e-5,hidden_layer_sizes=(5, 2), random_state=1)\n",
        "print('Treinando...')\n",
        "#model = MLPClassifier()  #com hiperametros default, para ver quais são consulte https://scikit-learn.org/stable/modules/generated/sklearn.neural_network.MLPClassifier.html\n",
        "#model = MLPClassifier(verbose=True)  #Exibindo o treinamento, onde iteração é a época e loss é o erro quadrado médio\n",
        "model = MLPClassifier(\n",
        "    hidden_layer_sizes=(3,),\n",
        "    max_iter=200,\n",
        "    verbose=True,\n",
        "    learning_rate='constant',#invscaling',\n",
        "    learning_rate_init=0.5,\n",
        "    nesterovs_momentum= False,\n",
        "    power_t=0.01,\n",
        "    momentum=0.9,\n",
        "    activation='relu',\n",
        "    solver = 'sgd'\n",
        ")\n",
        "model.fit(X,Y)\n"
      ]
    },
    {
      "cell_type": "code",
      "execution_count": 4,
      "metadata": {
        "colab": {
          "base_uri": "https://localhost:8080/"
        },
        "id": "2UCzESm-QETo",
        "outputId": "a3b94e77-416d-4235-97b5-65a87cf94959"
      },
      "outputs": [
        {
          "name": "stdout",
          "output_type": "stream",
          "text": [
            "Testando...\n",
            "Predição:  [0 0 1 0]\n",
            "[[5.21185013e-01 4.78814987e-01]\n",
            " [5.21185013e-01 4.78814987e-01]\n",
            " [2.27335757e-04 9.99772664e-01]\n",
            " [9.89512022e-01 1.04879779e-02]]\n",
            "0.75\n",
            "[[2 0]\n",
            " [1 1]]\n"
          ]
        },
        {
          "data": {
            "text/plain": [
              "0.75"
            ]
          },
          "execution_count": 4,
          "metadata": {},
          "output_type": "execute_result"
        }
      ],
      "source": [
        "#Generalização - Teste com Y\n",
        "print('Testando...')\n",
        "\n",
        "saidaPredita = model.predict(X)\n",
        "print('Predição: ', saidaPredita)\n",
        "\n",
        "print(model.predict_proba(X))\n",
        "print(model.score(X,Y,sample_weight=None))\n",
        "\n",
        "mat = confusion_matrix(Y, saidaPredita)\n",
        "print(mat)\n",
        "accuracy_score(Y, saidaPredita)"
      ]
    }
  ],
  "metadata": {
    "colab": {
      "provenance": []
    },
    "kernelspec": {
      "display_name": "Python 3",
      "name": "python3"
    },
    "language_info": {
      "codemirror_mode": {
        "name": "ipython",
        "version": 3
      },
      "file_extension": ".py",
      "mimetype": "text/x-python",
      "name": "python",
      "nbconvert_exporter": "python",
      "pygments_lexer": "ipython3",
      "version": "3.10.6"
    }
  },
  "nbformat": 4,
  "nbformat_minor": 0
}
